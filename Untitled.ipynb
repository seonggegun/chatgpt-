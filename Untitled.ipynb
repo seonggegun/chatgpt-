{
 "cells": [
  {
   "cell_type": "code",
   "execution_count": 1,
   "id": "bb849c4d-db91-4fee-a530-bfab877617b9",
   "metadata": {},
   "outputs": [],
   "source": [
    "import pandas as pd\n",
    "import numpy as np\n",
    "import matplotlib.pyplot as plt\n",
    "import nltk\n",
    "import seaborn as sns\n",
    "import re"
   ]
  },
  {
   "cell_type": "code",
   "execution_count": 2,
   "id": "7f006e4c-dd61-447f-b1d5-a72dc568cfba",
   "metadata": {},
   "outputs": [],
   "source": [
    "plt.style.use('ggplot')"
   ]
  },
  {
   "cell_type": "code",
   "execution_count": 3,
   "id": "bb98a3d3-01ef-4a87-a3ab-e67061579851",
   "metadata": {},
   "outputs": [
    {
     "data": {
      "text/html": [
       "<div>\n",
       "<style scoped>\n",
       "    .dataframe tbody tr th:only-of-type {\n",
       "        vertical-align: middle;\n",
       "    }\n",
       "\n",
       "    .dataframe tbody tr th {\n",
       "        vertical-align: top;\n",
       "    }\n",
       "\n",
       "    .dataframe thead th {\n",
       "        text-align: right;\n",
       "    }\n",
       "</style>\n",
       "<table border=\"1\" class=\"dataframe\">\n",
       "  <thead>\n",
       "    <tr style=\"text-align: right;\">\n",
       "      <th></th>\n",
       "      <th>cleaned_tweets</th>\n",
       "      <th>labels</th>\n",
       "      <th>length</th>\n",
       "      <th>oldlength</th>\n",
       "    </tr>\n",
       "  </thead>\n",
       "  <tbody>\n",
       "    <tr>\n",
       "      <th>0</th>\n",
       "      <td>try talking chatgpt new ai system optimized di...</td>\n",
       "      <td>good</td>\n",
       "      <td>76.0</td>\n",
       "      <td>6</td>\n",
       "    </tr>\n",
       "    <tr>\n",
       "      <th>1</th>\n",
       "      <td>thrilled share chatgpt new model optimized dia...</td>\n",
       "      <td>good</td>\n",
       "      <td>81.0</td>\n",
       "      <td>139</td>\n",
       "    </tr>\n",
       "    <tr>\n",
       "      <th>2</th>\n",
       "      <td>launched chatgpt new ai system optimized dialogue</td>\n",
       "      <td>good</td>\n",
       "      <td>49.0</td>\n",
       "      <td>188</td>\n",
       "    </tr>\n",
       "    <tr>\n",
       "      <th>3</th>\n",
       "      <td>chatgpt coming strong refusing help stalk some...</td>\n",
       "      <td>good</td>\n",
       "      <td>82.0</td>\n",
       "      <td>140</td>\n",
       "    </tr>\n",
       "    <tr>\n",
       "      <th>4</th>\n",
       "      <td>deployed thing helping build last couple month...</td>\n",
       "      <td>good</td>\n",
       "      <td>88.0</td>\n",
       "      <td>142</td>\n",
       "    </tr>\n",
       "    <tr>\n",
       "      <th>...</th>\n",
       "      <td>...</td>\n",
       "      <td>...</td>\n",
       "      <td>...</td>\n",
       "      <td>...</td>\n",
       "    </tr>\n",
       "    <tr>\n",
       "      <th>161898</th>\n",
       "      <td>NaN</td>\n",
       "      <td>NaN</td>\n",
       "      <td>NaN</td>\n",
       "      <td>270</td>\n",
       "    </tr>\n",
       "    <tr>\n",
       "      <th>161899</th>\n",
       "      <td>NaN</td>\n",
       "      <td>NaN</td>\n",
       "      <td>NaN</td>\n",
       "      <td>83</td>\n",
       "    </tr>\n",
       "    <tr>\n",
       "      <th>161900</th>\n",
       "      <td>NaN</td>\n",
       "      <td>NaN</td>\n",
       "      <td>NaN</td>\n",
       "      <td>238</td>\n",
       "    </tr>\n",
       "    <tr>\n",
       "      <th>161901</th>\n",
       "      <td>NaN</td>\n",
       "      <td>NaN</td>\n",
       "      <td>NaN</td>\n",
       "      <td>57</td>\n",
       "    </tr>\n",
       "    <tr>\n",
       "      <th>161902</th>\n",
       "      <td>NaN</td>\n",
       "      <td>NaN</td>\n",
       "      <td>NaN</td>\n",
       "      <td>174</td>\n",
       "    </tr>\n",
       "  </tbody>\n",
       "</table>\n",
       "<p>161903 rows × 4 columns</p>\n",
       "</div>"
      ],
      "text/plain": [
       "                                           cleaned_tweets labels  length  \\\n",
       "0       try talking chatgpt new ai system optimized di...   good    76.0   \n",
       "1       thrilled share chatgpt new model optimized dia...   good    81.0   \n",
       "2       launched chatgpt new ai system optimized dialogue   good    49.0   \n",
       "3       chatgpt coming strong refusing help stalk some...   good    82.0   \n",
       "4       deployed thing helping build last couple month...   good    88.0   \n",
       "...                                                   ...    ...     ...   \n",
       "161898                                                NaN    NaN     NaN   \n",
       "161899                                                NaN    NaN     NaN   \n",
       "161900                                                NaN    NaN     NaN   \n",
       "161901                                                NaN    NaN     NaN   \n",
       "161902                                                NaN    NaN     NaN   \n",
       "\n",
       "        oldlength  \n",
       "0               6  \n",
       "1             139  \n",
       "2             188  \n",
       "3             140  \n",
       "4             142  \n",
       "...           ...  \n",
       "161898        270  \n",
       "161899         83  \n",
       "161900        238  \n",
       "161901         57  \n",
       "161902        174  \n",
       "\n",
       "[161903 rows x 4 columns]"
      ]
     },
     "execution_count": 3,
     "metadata": {},
     "output_type": "execute_result"
    }
   ],
   "source": [
    "df = pd.read_csv('Data/fileclean.csv')# 한글깨짐방지\n",
    "df"
   ]
  },
  {
   "cell_type": "code",
   "execution_count": 4,
   "id": "ebf906b0-77ba-46bb-9a96-b4f01d84914d",
   "metadata": {},
   "outputs": [
    {
     "data": {
      "text/plain": [
       "(161903, 4)"
      ]
     },
     "execution_count": 4,
     "metadata": {},
     "output_type": "execute_result"
    }
   ],
   "source": [
    "df.shape"
   ]
  },
  {
   "cell_type": "code",
   "execution_count": 5,
   "id": "394378f0-5936-41e0-ba33-158711ffb1dd",
   "metadata": {},
   "outputs": [
    {
     "data": {
      "text/plain": [
       "<AxesSubplot:xlabel='labels', ylabel='Count'>"
      ]
     },
     "execution_count": 5,
     "metadata": {},
     "output_type": "execute_result"
    },
    {
     "data": {
      "image/png": "[encoded data removed]",
      "text/plain": [
       "<Figure size 640x480 with 1 Axes>"
      ]
     },
     "metadata": {},
     "output_type": "display_data"
    }
   ],
   "source": [
    "sns.histplot(df['labels'])"
   ]
  },
  {
   "cell_type": "code",
   "execution_count": 6,
   "id": "6492eaf7-f018-4247-8135-c0f8e70f9ff9",
   "metadata": {},
   "outputs": [
    {
     "data": {
      "text/plain": [
       "<AxesSubplot:xlabel='length', ylabel='Count'>"
      ]
     },
     "execution_count": 6,
     "metadata": {},
     "output_type": "execute_result"
    },
    {
     "data": {
      "image/png": "[encoded data removed]",
      "text/plain": [
       "<Figure size 640x480 with 1 Axes>"
      ]
     },
     "metadata": {},
     "output_type": "display_data"
    }
   ],
   "source": [
    "sns.histplot(df['length'])"
   ]
  },
  {
   "cell_type": "code",
   "execution_count": 7,
   "id": "239cadee-8d70-402a-9d36-27dcbce6e0dc",
   "metadata": {},
   "outputs": [
    {
     "data": {
      "text/plain": [
       "<AxesSubplot:xlabel='oldlength', ylabel='Count'>"
      ]
     },
     "execution_count": 7,
     "metadata": {},
     "output_type": "execute_result"
    },
    {
     "data": {
      "image/png": "[encoded data removed]",
      "text/plain": [
       "<Figure size 640x480 with 1 Axes>"
      ]
     },
     "metadata": {},
     "output_type": "display_data"
    }
   ],
   "source": [
    "sns.histplot(df['oldlength'])"
   ]
  },
  {
   "cell_type": "code",
   "execution_count": 8,
   "id": "b1735aee-9907-48dc-bbee-d0d281ffb445",
   "metadata": {},
   "outputs": [],
   "source": [
    "df['tweet_list'] = df['cleaned_tweets'].str.split('https:')"
   ]
  },
  {
   "cell_type": "code",
   "execution_count": 9,
   "id": "3718b534-4f03-48d7-9eba-433ed2949c05",
   "metadata": {},
   "outputs": [
    {
     "data": {
      "text/html": [
       "<div>\n",
       "<style scoped>\n",
       "    .dataframe tbody tr th:only-of-type {\n",
       "        vertical-align: middle;\n",
       "    }\n",
       "\n",
       "    .dataframe tbody tr th {\n",
       "        vertical-align: top;\n",
       "    }\n",
       "\n",
       "    .dataframe thead th {\n",
       "        text-align: right;\n",
       "    }\n",
       "</style>\n",
       "<table border=\"1\" class=\"dataframe\">\n",
       "  <thead>\n",
       "    <tr style=\"text-align: right;\">\n",
       "      <th></th>\n",
       "      <th>cleaned_tweets</th>\n",
       "      <th>labels</th>\n",
       "      <th>length</th>\n",
       "      <th>oldlength</th>\n",
       "      <th>tweet_list</th>\n",
       "    </tr>\n",
       "  </thead>\n",
       "  <tbody>\n",
       "    <tr>\n",
       "      <th>0</th>\n",
       "      <td>try talking chatgpt new ai system optimized di...</td>\n",
       "      <td>good</td>\n",
       "      <td>76.0</td>\n",
       "      <td>6</td>\n",
       "      <td>[try talking chatgpt new ai system optimized d...</td>\n",
       "    </tr>\n",
       "    <tr>\n",
       "      <th>1</th>\n",
       "      <td>thrilled share chatgpt new model optimized dia...</td>\n",
       "      <td>good</td>\n",
       "      <td>81.0</td>\n",
       "      <td>139</td>\n",
       "      <td>[thrilled share chatgpt new model optimized di...</td>\n",
       "    </tr>\n",
       "    <tr>\n",
       "      <th>2</th>\n",
       "      <td>launched chatgpt new ai system optimized dialogue</td>\n",
       "      <td>good</td>\n",
       "      <td>49.0</td>\n",
       "      <td>188</td>\n",
       "      <td>[launched chatgpt new ai system optimized dial...</td>\n",
       "    </tr>\n",
       "    <tr>\n",
       "      <th>3</th>\n",
       "      <td>chatgpt coming strong refusing help stalk some...</td>\n",
       "      <td>good</td>\n",
       "      <td>82.0</td>\n",
       "      <td>140</td>\n",
       "      <td>[chatgpt coming strong refusing help stalk som...</td>\n",
       "    </tr>\n",
       "    <tr>\n",
       "      <th>4</th>\n",
       "      <td>deployed thing helping build last couple month...</td>\n",
       "      <td>good</td>\n",
       "      <td>88.0</td>\n",
       "      <td>142</td>\n",
       "      <td>[deployed thing helping build last couple mont...</td>\n",
       "    </tr>\n",
       "  </tbody>\n",
       "</table>\n",
       "</div>"
      ],
      "text/plain": [
       "                                      cleaned_tweets labels  length  \\\n",
       "0  try talking chatgpt new ai system optimized di...   good    76.0   \n",
       "1  thrilled share chatgpt new model optimized dia...   good    81.0   \n",
       "2  launched chatgpt new ai system optimized dialogue   good    49.0   \n",
       "3  chatgpt coming strong refusing help stalk some...   good    82.0   \n",
       "4  deployed thing helping build last couple month...   good    88.0   \n",
       "\n",
       "   oldlength                                         tweet_list  \n",
       "0          6  [try talking chatgpt new ai system optimized d...  \n",
       "1        139  [thrilled share chatgpt new model optimized di...  \n",
       "2        188  [launched chatgpt new ai system optimized dial...  \n",
       "3        140  [chatgpt coming strong refusing help stalk som...  \n",
       "4        142  [deployed thing helping build last couple mont...  "
      ]
     },
     "execution_count": 9,
     "metadata": {},
     "output_type": "execute_result"
    }
   ],
   "source": [
    "df.head()"
   ]
  },
  {
   "cell_type": "code",
   "execution_count": 10,
   "id": "9eaccc41-40e2-4149-8e1b-5439e3cf7e36",
   "metadata": {},
   "outputs": [
    {
     "ename": "TypeError",
     "evalue": "'float' object is not subscriptable",
     "output_type": "error",
     "traceback": [
      "\u001b[1;31m---------------------------------------------------------------------------\u001b[0m",
      "\u001b[1;31mTypeError\u001b[0m                                 Traceback (most recent call last)",
      "Cell \u001b[1;32mIn[10], line 1\u001b[0m\n\u001b[1;32m----> 1\u001b[0m text \u001b[38;5;241m=\u001b[39m [i[\u001b[38;5;241m0\u001b[39m] \u001b[38;5;28;01mfor\u001b[39;00m i \u001b[38;5;129;01min\u001b[39;00m df\u001b[38;5;241m.\u001b[39mtweet_list]\n",
      "Cell \u001b[1;32mIn[10], line 1\u001b[0m, in \u001b[0;36m<listcomp>\u001b[1;34m(.0)\u001b[0m\n\u001b[1;32m----> 1\u001b[0m text \u001b[38;5;241m=\u001b[39m [\u001b[43mi\u001b[49m\u001b[43m[\u001b[49m\u001b[38;5;241;43m0\u001b[39;49m\u001b[43m]\u001b[49m \u001b[38;5;28;01mfor\u001b[39;00m i \u001b[38;5;129;01min\u001b[39;00m df\u001b[38;5;241m.\u001b[39mtweet_list]\n",
      "\u001b[1;31mTypeError\u001b[0m: 'float' object is not subscriptable"
     ]
    }
   ],
   "source": [
    "text = [i[0] for i in df.tweet_list]"
   ]
  },
  {
   "cell_type": "code",
   "execution_count": null,
   "id": "26593c2e-25b9-4589-9382-559ee8d209db",
   "metadata": {},
   "outputs": [],
   "source": [
    "df['text'] = text"
   ]
  },
  {
   "cell_type": "code",
   "execution_count": null,
   "id": "5c4fe1a1-041b-4ac7-ba0e-dc20ed2805e9",
   "metadata": {},
   "outputs": [],
   "source": [
    "df.head()"
   ]
  },
  {
   "cell_type": "code",
   "execution_count": null,
   "id": "5389237e-0567-4fe8-8293-f0aba94ab32e",
   "metadata": {},
   "outputs": [],
   "source": [
    "pip install wordcloud"
   ]
  },
  {
   "cell_type": "code",
   "execution_count": null,
   "id": "f7e24840-ba9a-46b0-b940-976500c7e6ad",
   "metadata": {},
   "outputs": [],
   "source": [
    "from wordcloud import WordCloud, STOPWORDS\n",
    "import matplotlib.pyplot as plt\n",
    "from PIL import Image\n",
    " \n",
    "comment_words = ''\n",
    "stopwords = set(STOPWORDS)\n",
    " \n",
    "\n",
    "for val in df.text:\n",
    "     \n",
    "    # typecaste each val to string\n",
    "    val = str(val)\n",
    " \n",
    "    # split the value\n",
    "    tokens = val.split()\n",
    "     \n",
    "    # Converts each token into lowercase\n",
    "    for i in range(len(tokens)):\n",
    "        tokens[i] = tokens[i].lower()\n",
    "     \n",
    "    comment_words += \" \".join(tokens)+\" \"\n",
    " \n",
    "mask = np.array(Image.open(\"Data/pigeon.png\"))\n",
    "\n",
    "wordcloud = WordCloud(width = 800, height = 800,\n",
    "                background_color ='black',\n",
    "                stopwords = stopwords,\n",
    "                min_font_size = 10, mask=mask).generate(comment_words)\n",
    " \n",
    "# plot the WordCloud image                      \n",
    "plt.figure(figsize = (8, 8), facecolor = None)\n",
    "plt.imshow(wordcloud)\n",
    "plt.axis(\"off\")\n",
    "plt.tight_layout(pad = 0)\n",
    " \n",
    "plt.show()"
   ]
  },
  {
   "cell_type": "code",
   "execution_count": null,
   "id": "7f502e13-f147-48a2-b482-292a8f0618a3",
   "metadata": {},
   "outputs": [],
   "source": []
  },
  {
   "cell_type": "code",
   "execution_count": null,
   "id": "7d0d1018-ed81-4a9b-b3b5-799fd4bd2ca7",
   "metadata": {},
   "outputs": [],
   "source": []
  }
 ],
 "metadata": {
  "kernelspec": {
   "display_name": "Python 3 (ipykernel)",
   "language": "python",
   "name": "python3"
  },
  "language_info": {
   "codemirror_mode": {
    "name": "ipython",
    "version": 3
   },
   "file_extension": ".py",
   "mimetype": "text/x-python",
   "name": "python",
   "nbconvert_exporter": "python",
   "pygments_lexer": "ipython3",
   "version": "3.9.7"
  }
 },
 "nbformat": 4,
 "nbformat_minor": 5
}
